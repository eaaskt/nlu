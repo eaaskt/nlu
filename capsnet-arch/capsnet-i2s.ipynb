{
 "cells": [
  {
   "cell_type": "markdown",
   "metadata": {},
   "source": [
    "# Capsnets train + test\n",
    "\n",
    "First, import stuff"
   ]
  },
  {
   "cell_type": "code",
   "execution_count": 7,
   "metadata": {
    "pycharm": {
     "is_executing": false
    }
   },
   "outputs": [],
   "source": [
    "import tensorflow as tf\n",
    "import warnings\n",
    "warnings.filterwarnings('ignore')\n",
    "tf.logging.set_verbosity(tf.logging.ERROR)\n",
    "import data_loader\n",
    "import model_i2s"
   ]
  },
  {
   "cell_type": "markdown",
   "metadata": {
    "collapsed": true,
    "pycharm": {
     "is_executing": false
    }
   },
   "source": [
    "## Load word vectors and data"
   ]
  },
  {
   "cell_type": "code",
   "execution_count": 2,
   "metadata": {
    "pycharm": {
     "is_executing": false
    }
   },
   "outputs": [],
   "source": [
    "word2vec_path = '../../english_word_vectors/wiki-news-300d-1M.vec'\n",
    "\n",
    "# No diacritics data\n",
    "training_data_paths = [\n",
    "            '../data-capsnets/atis/train.txt'\n",
    "#         '../data-capsnets/scenario0/train.txt',\n",
    "#         '../data-capsnets/scenario1/train.txt',\n",
    "#         '../data-capsnets/scenario2/train.txt',\n",
    "#         '../data-capsnets/scenario3.1/train.txt',\n",
    "#         '../data-capsnets/scenario3.2/train.txt',\n",
    "#         '../data-capsnets/scenario3.3/train.txt',\n",
    "    ]\n",
    "test_data_paths = [\n",
    "      '../data-capsnets/atis/test.txt'\n",
    "#     '../data-capsnets/scenario0/test.txt',\n",
    "#     '../data-capsnets/scenario1/test.txt',\n",
    "#     '../data-capsnets/scenario2/test.txt',\n",
    "#     '../data-capsnets/scenario3.1/test.txt',\n",
    "#     '../data-capsnets/scenario3.2/test.txt',\n",
    "#     '../data-capsnets/scenario3.3/test.txt',\n",
    "]\n",
    "\n",
    "# Diacritics data\n",
    "dia_training_data_paths = [\n",
    "#         '../data-capsnets/diacritics/scenario0/train.txt',\n",
    "#         '../data-capsnets/diacritics/scenario1/train.txt',\n",
    "#         '../data-capsnets/diacritics/scenario2/train.txt',\n",
    "#         '../data-capsnets/diacritics/scenario31/train.txt',\n",
    "#         '../data-capsnets/diacritics/scenario32/train.txt',\n",
    "#         '../data-capsnets/diacritics/scenario33/train.txt',\n",
    "    ]\n",
    "dia_test_data_paths = [\n",
    "#     '../data-capsnets/diacritics/scenario0/test.txt',\n",
    "#     '../data-capsnets/diacritics/scenario1/test.txt',\n",
    "#     '../data-capsnets/diacritics/scenario2/test.txt',\n",
    "#     '../data-capsnets/diacritics/scenario31/test.txt',\n",
    "#     '../data-capsnets/diacritics/scenario32/test.txt',\n",
    "#     '../data-capsnets/diacritics/scenario33/test.txt',\n",
    "]\n",
    "scenario_nums = [\n",
    "    \n",
    "]\n"
   ]
  },
  {
   "cell_type": "code",
   "execution_count": 3,
   "metadata": {
    "pycharm": {
     "is_executing": true
    }
   },
   "outputs": [
    {
     "name": "stdout",
     "output_type": "stream",
     "text": [
      "------------------load word2vec begin-------------------\n",
      "loading time took -213.15\n",
      "------------------load word2vec end---------------------\n"
     ]
    }
   ],
   "source": [
    "print('------------------load word2vec begin-------------------')\n",
    "w2v = data_loader.load_w2v(word2vec_path)\n",
    "print('------------------load word2vec end---------------------')"
   ]
  },
  {
   "cell_type": "code",
   "execution_count": 4,
   "metadata": {
    "pycharm": {
     "is_executing": true
    }
   },
   "outputs": [
    {
     "name": "stdout",
     "output_type": "stream",
     "text": [
      "------------------read datasets begin-------------------\n",
      "Word sfo not in W2V vocabulary!\n",
      "Word ap68 not in W2V vocabulary!\n",
      "Word nationair not in W2V vocabulary!\n",
      "Word o'clock not in W2V vocabulary!\n",
      "Word stapleton not in W2V vocabulary!\n",
      "Word o'clock not in W2V vocabulary!\n",
      "Word o'clock not in W2V vocabulary!\n",
      "Word dc10 not in W2V vocabulary!\n",
      "Word o'clock not in W2V vocabulary!\n",
      "Word ewr not in W2V vocabulary!\n",
      "Word o'clock not in W2V vocabulary!\n",
      "Word o'clock not in W2V vocabulary!\n",
      "Word bwi not in W2V vocabulary!\n",
      "Word yyz not in W2V vocabulary!\n",
      "Word bwi not in W2V vocabulary!\n",
      "Word ewr not in W2V vocabulary!\n",
      "Word o'clock not in W2V vocabulary!\n",
      "Word o'clock not in W2V vocabulary!\n",
      "Word o'clock not in W2V vocabulary!\n",
      "Word o'clock not in W2V vocabulary!\n",
      "Word ap80 not in W2V vocabulary!\n",
      "Word ewr not in W2V vocabulary!\n",
      "Word o'clock not in W2V vocabulary!\n",
      "Word bwi not in W2V vocabulary!\n",
      "Word o'clock not in W2V vocabulary!\n",
      "Word o'clock not in W2V vocabulary!\n",
      "Word o'clock not in W2V vocabulary!\n",
      "Word ewr not in W2V vocabulary!\n",
      "Word bwi not in W2V vocabulary!\n",
      "Word o'clock not in W2V vocabulary!\n",
      "Word sfo not in W2V vocabulary!\n",
      "Word ap57 not in W2V vocabulary!\n",
      "Word o'clock not in W2V vocabulary!\n",
      "Word burbank not in W2V vocabulary!\n",
      "Word o'clock not in W2V vocabulary!\n",
      "Word burbank not in W2V vocabulary!\n",
      "Word bwi not in W2V vocabulary!\n",
      "Word o'clock not in W2V vocabulary!\n",
      "Word burbank not in W2V vocabulary!\n",
      "Word mco not in W2V vocabulary!\n",
      "Word o'clock not in W2V vocabulary!\n",
      "Word burbank not in W2V vocabulary!\n",
      "Word burbank not in W2V vocabulary!\n",
      "Word o'clock not in W2V vocabulary!\n",
      "Word o'clock not in W2V vocabulary!\n",
      "Word o'clock not in W2V vocabulary!\n",
      "Word 497766 not in W2V vocabulary!\n",
      "Word 137338 not in W2V vocabulary!\n",
      "Word o'clock not in W2V vocabulary!\n",
      "Word o'clock not in W2V vocabulary!\n",
      "Word o'clock not in W2V vocabulary!\n",
      "Word ap57 not in W2V vocabulary!\n",
      "Word o'clock not in W2V vocabulary!\n",
      "Word mco not in W2V vocabulary!\n",
      "Word o'clock not in W2V vocabulary!\n",
      "Word o'clock not in W2V vocabulary!\n",
      "Word o'clock not in W2V vocabulary!\n",
      "Word burbank not in W2V vocabulary!\n",
      "Word m80 not in W2V vocabulary!\n",
      "Word dfw not in W2V vocabulary!\n",
      "Word dfw not in W2V vocabulary!\n",
      "Word mco not in W2V vocabulary!\n",
      "Word bwi not in W2V vocabulary!\n",
      "Word bwi not in W2V vocabulary!\n",
      "Word o'clock not in W2V vocabulary!\n",
      "Word bwi not in W2V vocabulary!\n",
      "Word mco not in W2V vocabulary!\n",
      "Word ewr not in W2V vocabulary!\n",
      "Word o'clock not in W2V vocabulary!\n",
      "Word ewr not in W2V vocabulary!\n",
      "Word m80 not in W2V vocabulary!\n",
      "Word sfo not in W2V vocabulary!\n",
      "Word o'clock not in W2V vocabulary!\n",
      "Word o'clock not in W2V vocabulary!\n",
      "Word o'clock not in W2V vocabulary!\n",
      "Word o'clock not in W2V vocabulary!\n",
      "Word j31 not in W2V vocabulary!\n",
      "Word o'clock not in W2V vocabulary!\n",
      "Word o'clock not in W2V vocabulary!\n",
      "Word burbank not in W2V vocabulary!\n",
      "Word o'clock not in W2V vocabulary!\n",
      "Word bwi not in W2V vocabulary!\n",
      "Word burbank not in W2V vocabulary!\n",
      "Word o'clock not in W2V vocabulary!\n",
      "Word o'clock not in W2V vocabulary!\n",
      "Word o'clock not in W2V vocabulary!\n",
      "Word dfw not in W2V vocabulary!\n",
      "Word o'clock not in W2V vocabulary!\n",
      "Word o'clock not in W2V vocabulary!\n",
      "Word o'clock not in W2V vocabulary!\n",
      "Word o'clock not in W2V vocabulary!\n",
      "Word o'clock not in W2V vocabulary!\n",
      "Word o'clock not in W2V vocabulary!\n",
      "Word bwi not in W2V vocabulary!\n",
      "Word nationair not in W2V vocabulary!\n",
      "Word ap57 not in W2V vocabulary!\n",
      "Word o'clock not in W2V vocabulary!\n",
      "Word burbank not in W2V vocabulary!\n",
      "Word dc10 not in W2V vocabulary!\n",
      "Word o'clock not in W2V vocabulary!\n",
      "Word ewr not in W2V vocabulary!\n",
      "Word o'clock not in W2V vocabulary!\n",
      "Word ewr not in W2V vocabulary!\n",
      "Word o'clock not in W2V vocabulary!\n",
      "Word o'clock not in W2V vocabulary!\n",
      "Word hartfield not in W2V vocabulary!\n",
      "Word burbank not in W2V vocabulary!\n",
      "Word o'clock not in W2V vocabulary!\n",
      "Word o'clock not in W2V vocabulary!\n",
      "Word o'clock not in W2V vocabulary!\n",
      "Word dulles not in W2V vocabulary!\n",
      "Word burbank not in W2V vocabulary!\n",
      "Word o'clock not in W2V vocabulary!\n",
      "Word o'clock not in W2V vocabulary!\n",
      "Word sfo not in W2V vocabulary!\n",
      "Word o'clock not in W2V vocabulary!\n",
      "Word o'clock not in W2V vocabulary!\n",
      "Word bwi not in W2V vocabulary!\n",
      "Word d9s not in W2V vocabulary!\n",
      "Word o'clock not in W2V vocabulary!\n",
      "Word o'clock not in W2V vocabulary!\n",
      "Word o'clock not in W2V vocabulary!\n",
      "Word o'clock not in W2V vocabulary!\n",
      "Word o'clock not in W2V vocabulary!\n",
      "Word o'clock not in W2V vocabulary!\n",
      "Word dfw not in W2V vocabulary!\n",
      "Word burbank not in W2V vocabulary!\n",
      "Word burbank not in W2V vocabulary!\n",
      "Word o'clock not in W2V vocabulary!\n",
      "Word o'clock not in W2V vocabulary!\n",
      "Word mco not in W2V vocabulary!\n",
      "Word bwi not in W2V vocabulary!\n",
      "Word o'clock not in W2V vocabulary!\n",
      "Word f28 not in W2V vocabulary!\n",
      "Word o'clock not in W2V vocabulary!\n",
      "Word o'clock not in W2V vocabulary!\n",
      "Word dfw not in W2V vocabulary!\n",
      "Word dc10 not in W2V vocabulary!\n",
      "Word mco not in W2V vocabulary!\n",
      "Word o'clock not in W2V vocabulary!\n",
      "Word mco not in W2V vocabulary!\n",
      "Word f28 not in W2V vocabulary!\n",
      "Word o'clock not in W2V vocabulary!\n",
      "Word nationair not in W2V vocabulary!\n",
      "Word o'clock not in W2V vocabulary!\n",
      "Word o'clock not in W2V vocabulary!\n",
      "Word o'clock not in W2V vocabulary!\n",
      "Word burbank not in W2V vocabulary!\n",
      "Word burbank not in W2V vocabulary!\n",
      "Word o'clock not in W2V vocabulary!\n",
      "Word o'clock not in W2V vocabulary!\n",
      "Word o'clock not in W2V vocabulary!\n",
      "Word o'clock not in W2V vocabulary!\n",
      "Word o'clock not in W2V vocabulary!\n",
      "Word bwi not in W2V vocabulary!\n",
      "Word nationair not in W2V vocabulary!\n",
      "Word burbank not in W2V vocabulary!\n",
      "Word dulles not in W2V vocabulary!\n",
      "Word o'clock not in W2V vocabulary!\n",
      "Word ap57 not in W2V vocabulary!\n",
      "Word stapleton not in W2V vocabulary!\n",
      "Word o'clock not in W2V vocabulary!\n",
      "Word burbank not in W2V vocabulary!\n",
      "Word burbank not in W2V vocabulary!\n",
      "Word o'clock not in W2V vocabulary!\n",
      "Word o'clock not in W2V vocabulary!\n",
      "Word o'clock not in W2V vocabulary!\n",
      "Word ap80 not in W2V vocabulary!\n",
      "Word o'clock not in W2V vocabulary!\n",
      "Word f28 not in W2V vocabulary!\n",
      "Word burbank not in W2V vocabulary!\n",
      "Word o'clock not in W2V vocabulary!\n",
      "Word o'clock not in W2V vocabulary!\n",
      "Word burbank not in W2V vocabulary!\n",
      "Word burbank not in W2V vocabulary!\n",
      "Word sfo not in W2V vocabulary!\n",
      "Word o'clock not in W2V vocabulary!\n",
      "Word dfw not in W2V vocabulary!\n",
      "Word mco not in W2V vocabulary!\n",
      "Word nationair not in W2V vocabulary!\n",
      "Word o'clock not in W2V vocabulary!\n",
      "Word bwi not in W2V vocabulary!\n",
      "Word o'clock not in W2V vocabulary!\n",
      "Word bwi not in W2V vocabulary!\n",
      "Word o'clock not in W2V vocabulary!\n",
      "Word burbank not in W2V vocabulary!\n",
      "Word o'clock not in W2V vocabulary!\n",
      "Word o'clock not in W2V vocabulary!\n",
      "Word burbank not in W2V vocabulary!\n",
      "Word ap80 not in W2V vocabulary!\n",
      "Word mco not in W2V vocabulary!\n",
      "Word o'clock not in W2V vocabulary!\n",
      "Word o'clock not in W2V vocabulary!\n",
      "Word o'clock not in W2V vocabulary!\n",
      "Word sfo not in W2V vocabulary!\n",
      "Word dfw not in W2V vocabulary!\n",
      "Word dfw not in W2V vocabulary!\n",
      "Word ewr not in W2V vocabulary!\n",
      "Word o'clock not in W2V vocabulary!\n",
      "Word burbank not in W2V vocabulary!\n",
      "Word o'clock not in W2V vocabulary!\n",
      "Word burbank not in W2V vocabulary!\n",
      "Word burbank not in W2V vocabulary!\n",
      "Word burbank not in W2V vocabulary!\n",
      "Word burbank not in W2V vocabulary!\n",
      "Word burbank not in W2V vocabulary!\n",
      "Word burbank not in W2V vocabulary!\n",
      "Word o'clock not in W2V vocabulary!\n",
      "Word burbank not in W2V vocabulary!\n",
      "Word burbank not in W2V vocabulary!\n",
      "Word burbank not in W2V vocabulary!\n",
      "Word j31 not in W2V vocabulary!\n",
      "Word dh8 not in W2V vocabulary!\n",
      "Word l10 not in W2V vocabulary!\n",
      "Word be1 not in W2V vocabulary!\n",
      "Word l10 not in W2V vocabulary!\n",
      "Word be1 not in W2V vocabulary!\n",
      "Word phl not in W2V vocabulary!\n",
      "Word l1011 not in W2V vocabulary!\n",
      "Word dc9 not in W2V vocabulary!\n",
      "Word m80 not in W2V vocabulary!\n",
      "Word dc10 not in W2V vocabulary!\n",
      "Word dtw not in W2V vocabulary!\n",
      "Word dtw not in W2V vocabulary!\n",
      "Word burbank not in W2V vocabulary!\n",
      "Word burbank not in W2V vocabulary!\n",
      "Word burbank not in W2V vocabulary!\n",
      "Word ap58 not in W2V vocabulary!\n",
      "Word burbank not in W2V vocabulary!\n",
      "Word dulles not in W2V vocabulary!\n",
      "Word o'clock not in W2V vocabulary!\n",
      "Word d9s not in W2V vocabulary!\n",
      "Word d9s not in W2V vocabulary!\n",
      "Word d9s not in W2V vocabulary!\n",
      "Word bwi not in W2V vocabulary!\n",
      "Word m80 not in W2V vocabulary!\n",
      "Word m80 not in W2V vocabulary!\n",
      "Word m80 not in W2V vocabulary!\n",
      "Word m80 not in W2V vocabulary!\n",
      "Word m80 not in W2V vocabulary!\n",
      "Word m80 not in W2V vocabulary!\n",
      "Word m80 not in W2V vocabulary!\n",
      "Word m80 not in W2V vocabulary!\n",
      "Word ewr not in W2V vocabulary!\n",
      "Word burbank not in W2V vocabulary!\n",
      "Word burbank not in W2V vocabulary!\n",
      "Word burbank not in W2V vocabulary!\n",
      "Word burbank not in W2V vocabulary!\n",
      "Word burbank not in W2V vocabulary!\n",
      "Word burbank not in W2V vocabulary!\n",
      "Word burbank not in W2V vocabulary!\n",
      "Word burbank not in W2V vocabulary!\n",
      "Word burbank not in W2V vocabulary!\n",
      "Word burbank not in W2V vocabulary!\n",
      "Word burbank not in W2V vocabulary!\n",
      "Word burbank not in W2V vocabulary!\n",
      "Word burbank not in W2V vocabulary!\n",
      "Word burbank not in W2V vocabulary!\n",
      "Word burbank not in W2V vocabulary!\n",
      "Word burbank not in W2V vocabulary!\n",
      "Word burbank not in W2V vocabulary!\n",
      "Word burbank not in W2V vocabulary!\n"
     ]
    },
    {
     "name": "stdout",
     "output_type": "stream",
     "text": [
      "------------------read datasets end---------------------\n"
     ]
    }
   ],
   "source": [
    "data = data_loader.read_datasets(w2v, training_data_paths[0], test_data_paths[0], test=True)"
   ]
  },
  {
   "cell_type": "markdown",
   "metadata": {},
   "source": [
    "# Train model\n",
    "\n",
    "First, set the flags"
   ]
  },
  {
   "cell_type": "code",
   "execution_count": 10,
   "metadata": {
    "pycharm": {
     "is_executing": true
    }
   },
   "outputs": [],
   "source": [
    "def set_flags(data, scenario):\n",
    "    FLAGS = tf.app.flags.FLAGS\n",
    "\n",
    "    tf.app.flags.DEFINE_boolean('save_model', False, 'save model to disk')\n",
    "    tf.app.flags.DEFINE_string('summaries_dir', './logs', 'tensorboard summaries')\n",
    "    tf.app.flags.DEFINE_string('ckpt_dir', './saved_models/', 'check point dir')\n",
    "    tf.app.flags.DEFINE_string('scenario_num', scenario, 'Scenario number')\n",
    "    tf.app.flags.DEFINE_string('errors_dir', './errors/', 'Errors dir')\n",
    "    \n",
    "    vocab_size, word_emb_size = data['embedding'].shape\n",
    "    _, max_sentence_length = data['x_tr'].shape\n",
    "    intents_number = len(data['intents_dict'])\n",
    "    slots_number = len(data['slots_dict'])\n",
    "    hidden_size = 64\n",
    "\n",
    "    tf.app.flags.DEFINE_float('keep_prob', 1, 'embedding dropout keep rate for training')\n",
    "    tf.app.flags.DEFINE_integer('hidden_size', hidden_size, 'embedding vector size')\n",
    "    tf.app.flags.DEFINE_integer('batch_size', 32, 'batch size')\n",
    "    tf.app.flags.DEFINE_integer('num_epochs', 20, 'num of epochs')\n",
    "    tf.app.flags.DEFINE_integer('vocab_size', vocab_size, 'vocab size of word vectors')\n",
    "    tf.app.flags.DEFINE_integer('max_sentence_length', max_sentence_length, 'max number of words in one sentence')\n",
    "    tf.app.flags.DEFINE_integer('intents_nr', intents_number, 'intents_number')  #\n",
    "    tf.app.flags.DEFINE_integer('slots_nr', slots_number, 'slots_number')  #\n",
    "    tf.app.flags.DEFINE_integer('word_emb_size', word_emb_size, 'embedding size of word vectors')\n",
    "    tf.app.flags.DEFINE_boolean('use_embedding', True, 'whether to use embedding or not.')\n",
    "    tf.app.flags.DEFINE_float('learning_rate', 0.01, 'learning rate')\n",
    "    tf.app.flags.DEFINE_integer('slot_routing_num', 2, 'slot routing num')\n",
    "    tf.app.flags.DEFINE_integer('intent_routing_num', 3, 'intent routing num')\n",
    "    tf.app.flags.DEFINE_integer('intent_output_dim', 16, 'intent output dimension')\n",
    "    tf.app.flags.DEFINE_integer('slot_output_dim', 2 * hidden_size, 'slot output dimension')\n",
    "    tf.app.flags.DEFINE_integer('d_a', 20, 'self attention weight hidden units number')\n",
    "    tf.app.flags.DEFINE_integer('r', 5, 'number of self attention heads')\n",
    "    tf.app.flags.DEFINE_float('alpha', 0.0001, 'coefficient for self attention loss')\n",
    "    tf.app.flags.DEFINE_integer('n_splits', 3, 'Number of cross-validation splits')\n",
    "    \n",
    "    tf.app.flags.DEFINE_string('f', '', 'kernel') # Without this there's an error: unknown command line flag 'f'\n",
    "    \n",
    "    return FLAGS"
   ]
  },
  {
   "cell_type": "code",
   "execution_count": 9,
   "metadata": {
    "pycharm": {
     "is_executing": true
    }
   },
   "outputs": [],
   "source": [
    "def del_all_flags(FLAGS):\n",
    "    flags_dict = FLAGS._flags()\n",
    "    keys_list = [keys for keys in flags_dict]\n",
    "    for keys in keys_list:\n",
    "        FLAGS.__delattr__(keys)\n",
    "        \n",
    "del_all_flags(FLAGS)"
   ]
  },
  {
   "cell_type": "code",
   "execution_count": 11,
   "metadata": {
    "pycharm": {
     "is_executing": true
    }
   },
   "outputs": [
    {
     "name": "stdout",
     "output_type": "stream",
     "text": [
      "------------------start cross-validation-------------------\n",
      "FOLD 1\n"
     ]
    },
    {
     "ename": "AttributeError",
     "evalue": "attention_output_dimenison",
     "output_type": "error",
     "traceback": [
      "\u001b[0;31m---------------------------------------------------------------------------\u001b[0m",
      "\u001b[0;31mAttributeError\u001b[0m                            Traceback (most recent call last)",
      "\u001b[0;32m<ipython-input-11-730ccf3e55c5>\u001b[0m in \u001b[0;36m<module>\u001b[0;34m\u001b[0m\n\u001b[1;32m      2\u001b[0m \u001b[0;34m\u001b[0m\u001b[0m\n\u001b[1;32m      3\u001b[0m \u001b[0mFLAGS\u001b[0m \u001b[0;34m=\u001b[0m \u001b[0mset_flags\u001b[0m\u001b[0;34m(\u001b[0m\u001b[0mdata\u001b[0m\u001b[0;34m,\u001b[0m \u001b[0mscenario\u001b[0m\u001b[0;34m=\u001b[0m\u001b[0;34m'33-dia-seqmini'\u001b[0m\u001b[0;34m)\u001b[0m\u001b[0;34m\u001b[0m\u001b[0;34m\u001b[0m\u001b[0m\n\u001b[0;32m----> 4\u001b[0;31m \u001b[0mtrain\u001b[0m\u001b[0;34m.\u001b[0m\u001b[0mtrain\u001b[0m\u001b[0;34m(\u001b[0m\u001b[0mmodel_i2s\u001b[0m\u001b[0;34m.\u001b[0m\u001b[0mCapsNetI2S\u001b[0m\u001b[0;34m,\u001b[0m \u001b[0mdata\u001b[0m\u001b[0;34m,\u001b[0m \u001b[0mFLAGS\u001b[0m\u001b[0;34m)\u001b[0m\u001b[0;34m\u001b[0m\u001b[0;34m\u001b[0m\u001b[0m\n\u001b[0m",
      "\u001b[0;32m~/School/Licenta/nlu/capsnet-arch/train.py\u001b[0m in \u001b[0;36mtrain\u001b[0;34m(model, data, FLAGS, batches_rand, log)\u001b[0m\n\u001b[1;32m    329\u001b[0m         \u001b[0;31m# Train on split\u001b[0m\u001b[0;34m\u001b[0m\u001b[0;34m\u001b[0m\u001b[0;34m\u001b[0m\u001b[0m\n\u001b[1;32m    330\u001b[0m         best_f_score, best_f_score_mean_fold, best_f_score_intent_fold, best_f_score_slot_fold = train_cross_validation(model,\n\u001b[0;32m--> 331\u001b[0;31m             train_data, val_data, embedding, FLAGS, fold, best_f_score, batches_rand=batches_rand, log=log)\n\u001b[0m\u001b[1;32m    332\u001b[0m \u001b[0;34m\u001b[0m\u001b[0m\n\u001b[1;32m    333\u001b[0m         \u001b[0mfold\u001b[0m \u001b[0;34m+=\u001b[0m \u001b[0;36m1\u001b[0m\u001b[0;34m\u001b[0m\u001b[0;34m\u001b[0m\u001b[0m\n",
      "\u001b[0;32m~/School/Licenta/nlu/capsnet-arch/train.py\u001b[0m in \u001b[0;36mtrain_cross_validation\u001b[0;34m(model, train_data, val_data, embedding, FLAGS, fold, best_f_score, batches_rand, log)\u001b[0m\n\u001b[1;32m    190\u001b[0m     \u001b[0;32mwith\u001b[0m \u001b[0mtf\u001b[0m\u001b[0;34m.\u001b[0m\u001b[0mSession\u001b[0m\u001b[0;34m(\u001b[0m\u001b[0mconfig\u001b[0m\u001b[0;34m=\u001b[0m\u001b[0mconfig\u001b[0m\u001b[0;34m)\u001b[0m \u001b[0;32mas\u001b[0m \u001b[0msess\u001b[0m\u001b[0;34m:\u001b[0m\u001b[0;34m\u001b[0m\u001b[0;34m\u001b[0m\u001b[0m\n\u001b[1;32m    191\u001b[0m         \u001b[0;31m# Instantiate Model\u001b[0m\u001b[0;34m\u001b[0m\u001b[0;34m\u001b[0m\u001b[0;34m\u001b[0m\u001b[0m\n\u001b[0;32m--> 192\u001b[0;31m         \u001b[0mcapsnet\u001b[0m \u001b[0;34m=\u001b[0m \u001b[0mmodel\u001b[0m\u001b[0;34m(\u001b[0m\u001b[0mFLAGS\u001b[0m\u001b[0;34m)\u001b[0m\u001b[0;34m\u001b[0m\u001b[0;34m\u001b[0m\u001b[0m\n\u001b[0m\u001b[1;32m    193\u001b[0m \u001b[0;34m\u001b[0m\u001b[0m\n\u001b[1;32m    194\u001b[0m         \u001b[0mprint\u001b[0m\u001b[0;34m(\u001b[0m\u001b[0;34m'Initializing Variables'\u001b[0m\u001b[0;34m)\u001b[0m\u001b[0;34m\u001b[0m\u001b[0;34m\u001b[0m\u001b[0m\n",
      "\u001b[0;32m~/School/Licenta/nlu/capsnet-arch/model_i2s.py\u001b[0m in \u001b[0;36m__init__\u001b[0;34m(self, FLAGS, initializer)\u001b[0m\n\u001b[1;32m     33\u001b[0m         \u001b[0;31m# parameters for self attention\u001b[0m\u001b[0;34m\u001b[0m\u001b[0;34m\u001b[0m\u001b[0;34m\u001b[0m\u001b[0m\n\u001b[1;32m     34\u001b[0m         \u001b[0mself\u001b[0m\u001b[0;34m.\u001b[0m\u001b[0mmax_sentence_length\u001b[0m \u001b[0;34m=\u001b[0m \u001b[0mFLAGS\u001b[0m\u001b[0;34m.\u001b[0m\u001b[0mmax_sentence_length\u001b[0m\u001b[0;34m\u001b[0m\u001b[0;34m\u001b[0m\u001b[0m\n\u001b[0;32m---> 35\u001b[0;31m         \u001b[0;31m# self.attention_dimenison = FLAGS.attention_output_dimenison\u001b[0m\u001b[0;34m\u001b[0m\u001b[0;34m\u001b[0m\u001b[0;34m\u001b[0m\u001b[0m\n\u001b[0m\u001b[1;32m     36\u001b[0m         \u001b[0mself\u001b[0m\u001b[0;34m.\u001b[0m\u001b[0mr\u001b[0m \u001b[0;34m=\u001b[0m \u001b[0mFLAGS\u001b[0m\u001b[0;34m.\u001b[0m\u001b[0mr\u001b[0m\u001b[0;34m\u001b[0m\u001b[0;34m\u001b[0m\u001b[0m\n\u001b[1;32m     37\u001b[0m         \u001b[0mself\u001b[0m\u001b[0;34m.\u001b[0m\u001b[0malpha\u001b[0m \u001b[0;34m=\u001b[0m \u001b[0mFLAGS\u001b[0m\u001b[0;34m.\u001b[0m\u001b[0malpha\u001b[0m\u001b[0;34m\u001b[0m\u001b[0;34m\u001b[0m\u001b[0m\n",
      "\u001b[0;32m~/School/Licenta/nlu/capsnet-arch/venv/lib/python3.7/site-packages/tensorflow_core/python/platform/flags.py\u001b[0m in \u001b[0;36m__getattr__\u001b[0;34m(self, name)\u001b[0m\n\u001b[1;32m     83\u001b[0m     \u001b[0;32mif\u001b[0m \u001b[0;32mnot\u001b[0m \u001b[0mwrapped\u001b[0m\u001b[0;34m.\u001b[0m\u001b[0mis_parsed\u001b[0m\u001b[0;34m(\u001b[0m\u001b[0;34m)\u001b[0m\u001b[0;34m:\u001b[0m\u001b[0;34m\u001b[0m\u001b[0;34m\u001b[0m\u001b[0m\n\u001b[1;32m     84\u001b[0m       \u001b[0mwrapped\u001b[0m\u001b[0;34m(\u001b[0m\u001b[0m_sys\u001b[0m\u001b[0;34m.\u001b[0m\u001b[0margv\u001b[0m\u001b[0;34m)\u001b[0m\u001b[0;34m\u001b[0m\u001b[0;34m\u001b[0m\u001b[0m\n\u001b[0;32m---> 85\u001b[0;31m     \u001b[0;32mreturn\u001b[0m \u001b[0mwrapped\u001b[0m\u001b[0;34m.\u001b[0m\u001b[0m__getattr__\u001b[0m\u001b[0;34m(\u001b[0m\u001b[0mname\u001b[0m\u001b[0;34m)\u001b[0m\u001b[0;34m\u001b[0m\u001b[0;34m\u001b[0m\u001b[0m\n\u001b[0m\u001b[1;32m     86\u001b[0m \u001b[0;34m\u001b[0m\u001b[0m\n\u001b[1;32m     87\u001b[0m   \u001b[0;32mdef\u001b[0m \u001b[0m__setattr__\u001b[0m\u001b[0;34m(\u001b[0m\u001b[0mself\u001b[0m\u001b[0;34m,\u001b[0m \u001b[0mname\u001b[0m\u001b[0;34m,\u001b[0m \u001b[0mvalue\u001b[0m\u001b[0;34m)\u001b[0m\u001b[0;34m:\u001b[0m\u001b[0;34m\u001b[0m\u001b[0;34m\u001b[0m\u001b[0m\n",
      "\u001b[0;32m~/School/Licenta/nlu/capsnet-arch/venv/lib/python3.7/site-packages/absl/flags/_flagvalues.py\u001b[0m in \u001b[0;36m__getattr__\u001b[0;34m(self, name)\u001b[0m\n\u001b[1;32m    471\u001b[0m     \u001b[0mfl\u001b[0m \u001b[0;34m=\u001b[0m \u001b[0mself\u001b[0m\u001b[0;34m.\u001b[0m\u001b[0m_flags\u001b[0m\u001b[0;34m(\u001b[0m\u001b[0;34m)\u001b[0m\u001b[0;34m\u001b[0m\u001b[0;34m\u001b[0m\u001b[0m\n\u001b[1;32m    472\u001b[0m     \u001b[0;32mif\u001b[0m \u001b[0mname\u001b[0m \u001b[0;32mnot\u001b[0m \u001b[0;32min\u001b[0m \u001b[0mfl\u001b[0m\u001b[0;34m:\u001b[0m\u001b[0;34m\u001b[0m\u001b[0;34m\u001b[0m\u001b[0m\n\u001b[0;32m--> 473\u001b[0;31m       \u001b[0;32mraise\u001b[0m \u001b[0mAttributeError\u001b[0m\u001b[0;34m(\u001b[0m\u001b[0mname\u001b[0m\u001b[0;34m)\u001b[0m\u001b[0;34m\u001b[0m\u001b[0;34m\u001b[0m\u001b[0m\n\u001b[0m\u001b[1;32m    474\u001b[0m     \u001b[0;32mif\u001b[0m \u001b[0mname\u001b[0m \u001b[0;32min\u001b[0m \u001b[0mself\u001b[0m\u001b[0;34m.\u001b[0m\u001b[0m__dict__\u001b[0m\u001b[0;34m[\u001b[0m\u001b[0;34m'__hiddenflags'\u001b[0m\u001b[0;34m]\u001b[0m\u001b[0;34m:\u001b[0m\u001b[0;34m\u001b[0m\u001b[0;34m\u001b[0m\u001b[0m\n\u001b[1;32m    475\u001b[0m       \u001b[0;32mraise\u001b[0m \u001b[0mAttributeError\u001b[0m\u001b[0;34m(\u001b[0m\u001b[0mname\u001b[0m\u001b[0;34m)\u001b[0m\u001b[0;34m\u001b[0m\u001b[0;34m\u001b[0m\u001b[0m\n",
      "\u001b[0;31mAttributeError\u001b[0m: attention_output_dimenison"
     ]
    }
   ],
   "source": [
    "import train\n",
    "\n",
    "FLAGS = set_flags(data, scenario='33-dia-seqmini')\n",
    "train.train(model_i2s.CapsNetI2S, data, FLAGS)\n"
   ]
  },
  {
   "cell_type": "markdown",
   "metadata": {},
   "source": [
    "# Test"
   ]
  },
  {
   "cell_type": "code",
   "execution_count": 73,
   "metadata": {
    "pycharm": {
     "is_executing": true
    }
   },
   "outputs": [
    {
     "name": "stdout",
     "output_type": "stream",
     "text": [
      "Restoring Variables from Checkpoint for testing\n",
      "           TEST SET PERFORMANCE        \n",
      "Intent detection\n",
      "                          precision    recall  f1-score   support\n",
      "\n",
      "           aprindeLumina     0.1111    0.1000    0.1053        30\n",
      " cresteIntensitateLumina     0.4468    0.7000    0.5455        30\n",
      "       cresteTemperatura     0.0000    0.0000    0.0000        30\n",
      "           opresteMuzica     0.1724    0.1667    0.1695        30\n",
      "               opresteTV     0.3000    0.1000    0.1500        30\n",
      "              pornesteTV     0.6000    0.5000    0.5455        30\n",
      "              puneMuzica     0.2400    0.4000    0.3000        30\n",
      "  scadeIntensitateLumina     0.0000    0.0000    0.0000        30\n",
      "        scadeTemperatura     0.1667    0.0667    0.0952        30\n",
      "          schimbaCanalTV     0.2683    0.3667    0.3099        30\n",
      "schimbaIntensitateMuzica     0.8788    0.9667    0.9206        30\n",
      "      seteazaTemperatura     0.2449    0.4000    0.3038        30\n",
      "            stingeLumina     0.0000    0.0000    0.0000        30\n",
      "\n",
      "                accuracy                         0.2897       390\n",
      "               macro avg     0.2638    0.2897    0.2650       390\n",
      "            weighted avg     0.2638    0.2897    0.2650       390\n",
      "\n",
      "Intent accuracy 0.289744\n",
      "F score 0.289744\n",
      "Slot filling\n",
      "F1 score: 0.479076\n",
      "Accuracy: 0.901282\n",
      "Precision: 0.542484\n",
      "Recall: 0.428941\n"
     ]
    },
    {
     "data": {
      "image/png": "[encoded data removed]",
      "text/plain": [
       "<Figure size 432x288 with 2 Axes>"
      ]
     },
     "metadata": {
      "needs_background": "light"
     },
     "output_type": "display_data"
    },
    {
     "data": {
      "image/png": "[encoded data removed]",
      "text/plain": [
       "<Figure size 432x288 with 2 Axes>"
      ]
     },
     "metadata": {
      "needs_background": "light"
     },
     "output_type": "display_data"
    },
    {
     "name": "stdout",
     "output_type": "stream",
     "text": [
      "Intent F1: 0.289744\n",
      "Slot F1: 0.479076\n"
     ]
    }
   ],
   "source": [
    "import test\n",
    "FLAGS = set_flags(data, scenario='33-dia-seqmini')\n",
    "test.test(model_i2s.CapsNetI2S, data, FLAGS)"
   ]
  },
  {
   "cell_type": "code",
   "execution_count": null,
   "metadata": {
    "pycharm": {
     "is_executing": true
    }
   },
   "outputs": [],
   "source": []
  }
 ],
 "metadata": {
  "kernelspec": {
   "display_name": "Python 3",
   "language": "python",
   "name": "python3"
  },
  "language_info": {
   "codemirror_mode": {
    "name": "ipython",
    "version": 3
   },
   "file_extension": ".py",
   "mimetype": "text/x-python",
   "name": "python",
   "nbconvert_exporter": "python",
   "pygments_lexer": "ipython3",
   "version": "3.7.6"
  },
  "pycharm": {
   "stem_cell": {
    "cell_type": "raw",
    "source": [],
    "metadata": {
     "collapsed": false
    }
   }
  }
 },
 "nbformat": 4,
 "nbformat_minor": 1
}